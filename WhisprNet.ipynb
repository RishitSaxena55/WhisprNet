{
  "metadata": {
    "kernelspec": {
      "name": "python3",
      "display_name": "Python 3",
      "language": "python"
    },
    "language_info": {
      "name": "python",
      "version": "3.11.13",
      "mimetype": "text/x-python",
      "codemirror_mode": {
        "name": "ipython",
        "version": 3
      },
      "pygments_lexer": "ipython3",
      "nbconvert_exporter": "python",
      "file_extension": ".py"
    },
    "colab": {
      "provenance": [],
      "include_colab_link": true
    },
    "kaggle": {
      "accelerator": "nvidiaTeslaT4",
      "dataSources": [
        {
          "sourceId": 11115970,
          "sourceType": "datasetVersion",
          "datasetId": 6930996
        },
        {
          "sourceId": 497795,
          "sourceType": "modelInstanceVersion",
          "isSourceIdPinned": true,
          "modelInstanceId": 395507,
          "modelId": 414067
        },
        {
          "sourceId": 498021,
          "sourceType": "modelInstanceVersion",
          "isSourceIdPinned": true,
          "modelInstanceId": 395708,
          "modelId": 414252
        }
      ],
      "dockerImageVersionId": 31089,
      "isInternetEnabled": true,
      "language": "python",
      "sourceType": "notebook",
      "isGpuEnabled": true
    }
  },
  "nbformat_minor": 0,
  "nbformat": 4,
  "cells": [
    {
      "cell_type": "markdown",
      "metadata": {
        "id": "view-in-github",
        "colab_type": "text"
      },
      "source": [
        "<a href=\"https://colab.research.google.com/github/RishitSaxena55/WhisprNet/blob/main/WhisprNet.ipynb\" target=\"_parent\"><img src=\"https://colab.research.google.com/assets/colab-badge.svg\" alt=\"Open In Colab\"/></a>"
      ]
    },
    {
      "cell_type": "markdown",
      "source": [
        "# **WhisprNet : An Encoder-Decoder Transformer based ASR System**"
      ],
      "metadata": {
        "id": "VhivwigQsidn"
      }
    },
    {
      "cell_type": "markdown",
      "source": [
        "## First Clone the repo from github\n",
        "-> https://github.com/RishitSaxena55/WhisprNet"
      ],
      "metadata": {
        "id": "HGSUxLvismft"
      }
    },
    {
      "cell_type": "code",
      "source": [
        "!git clone https://github.com/RishitSaxena55/WhisprNet.git"
      ],
      "metadata": {
        "id": "SjVvCmrhsf2k"
      },
      "execution_count": null,
      "outputs": []
    },
    {
      "cell_type": "code",
      "source": [
        "# To pull latest changes (Must be in the repo dir, use pwd/ls to verify)\n",
        "!cd WhisprNet && git pull"
      ],
      "metadata": {
        "id": "dp4GwXdSsf0s"
      },
      "execution_count": null,
      "outputs": []
    },
    {
      "cell_type": "markdown",
      "source": [
        "## Add a dataset : I have used ASR Dataset hosted by CMU"
      ],
      "metadata": {
        "id": "D12_1ihbssPq"
      }
    },
    {
      "cell_type": "code",
      "source": [
        "!curl -L -o /content/s25-hw4-data.zip https://www.kaggle.com/api/v1/datasets/download/cmu11785/s25-hw4-data\n",
        "!unzip -q -o /content/s25-hw4-data.zip -d /content/hw4_data\n",
        "!rm -rf /content/s25-hw4-data.zip\n",
        "!du -h --max-depth=2 /content/hw4_data"
      ],
      "metadata": {
        "id": "8w0Z3TtJsfxv"
      },
      "execution_count": null,
      "outputs": []
    },
    {
      "cell_type": "markdown",
      "source": [
        "## Move to repo directory"
      ],
      "metadata": {
        "id": "EKNzqSf2sxqr"
      }
    },
    {
      "cell_type": "code",
      "source": [
        "import os\n",
        "os.chdir('WhisprNet')\n",
        "!ls"
      ],
      "metadata": {
        "id": "tjw4-AkfsfwB"
      },
      "execution_count": null,
      "outputs": []
    },
    {
      "cell_type": "markdown",
      "source": [
        "## Install requirements"
      ],
      "metadata": {
        "id": "3UnJe1Vps1cu"
      }
    },
    {
      "cell_type": "code",
      "source": [
        "!pip install -r requirements.txt"
      ],
      "metadata": {
        "id": "rQOCxgMMsfs3"
      },
      "execution_count": null,
      "outputs": []
    },
    {
      "cell_type": "markdown",
      "source": [
        "## Imports"
      ],
      "metadata": {
        "id": "_aRPJJMWs4Mx"
      }
    },
    {
      "cell_type": "code",
      "source": [
        "!pip install -q transformers -U\n",
        "\n",
        "from WhiprNet_lib.data import (\n",
        "    H4Tokenizer,\n",
        "    ASRDataset,\n",
        "    verify_dataloader\n",
        ")\n",
        "from WhiprNet_lib.model import (\n",
        "    DecoderOnlyTransformer,\n",
        "    EncoderDecoderTransformer\n",
        ")\n",
        "from WhiprNet_lib.utils import (\n",
        "    create_scheduler,\n",
        "    create_optimizer,\n",
        "    plot_lr_schedule\n",
        ")\n",
        "from WhiprNet_lib.trainers import (\n",
        "    ASRTrainer,\n",
        "    ProgressiveTrainer\n",
        ")\n",
        "from torch.utils.data import DataLoader\n",
        "import yaml\n",
        "import gc\n",
        "import torch\n",
        "from torchinfo import summary\n",
        "import os\n",
        "import json\n",
        "import wandb\n",
        "import pandas as pd\n",
        "device = \"cuda\" if torch.cuda.is_available() else \"cpu\"\n",
        "print(f\"Using device: {device}\")"
      ],
      "metadata": {
        "id": "x-6eI5-jsfq2"
      },
      "execution_count": null,
      "outputs": []
    },
    {
      "cell_type": "markdown",
      "source": [
        "## Load Config File (You can also modify hyperparameters if you want to experiment)"
      ],
      "metadata": {
        "id": "AoifZ5xls-dY"
      }
    },
    {
      "cell_type": "code",
      "source": [
        "%%writefile config.yaml\n",
        "\n",
        "Name                      : \"WhisprNet\"\n",
        "\n",
        "###### Tokenization ------------------------------------------------------------\n",
        "tokenization:\n",
        "  token_type                : \"5k\"       # [char, 1k, 5k, 10k]\n",
        "  token_map :\n",
        "      'char': 'WhisprNet_lib/data/tokenizer_jsons/tokenizer_char.json'\n",
        "      '1k'  : 'WhisprNet_lib/data/tokenizer_jsons/tokenizer_1000.json'\n",
        "      '5k'  : 'WhisprNet_lib/data/tokenizer_jsons/tokenizer_5000.json'\n",
        "      '10k' : 'WhisprNet_lib/data/tokenizer_jsons/tokenizer_10000.json'\n",
        "\n",
        "###### Dataset -----------------------------------------------------------------\n",
        "data:\n",
        "  root                 : \"/kaggle/input/s25-hw4-data/hw4p2_data\"  # Set the root path of your data\n",
        "  train_partition      : \"train-clean-100\"  # paired text-speech for ASR pre-training\n",
        "  val_partition        : \"dev-clean\"        # paired text-speech for ASR pre-training\n",
        "  test_partition       : \"test-clean\"       # paired text-speech for ASR pre-training\n",
        "  subset               : 1.0                # Load a subset of the data (for debugging, testing, etc\n",
        "  batch_size           : 8          #\n",
        "  NUM_WORKERS          : 2            # Set to 0 for CPU\n",
        "  norm                 : 'global_mvn' # ['global_mvn', 'cepstral', 'none']\n",
        "  num_feats            : 80\n",
        "\n",
        "  ###### SpecAugment ---------------------------------------------------------------\n",
        "  specaug                   : True  # Set to True if you want to use SpecAugment\n",
        "  specaug_conf:\n",
        "    apply_freq_mask         : True\n",
        "    freq_mask_width_range   : 5\n",
        "    num_freq_mask           : 2\n",
        "    apply_time_mask         : True\n",
        "    time_mask_width_range   : 40\n",
        "    num_time_mask           : 2\n",
        "\n",
        "###### Network Specs -------------------------------------------------------------\n",
        "model: # Encoder-Decoder Transformer (HW4P2)\n",
        "  # Speech embedding parameters\n",
        "  input_dim: 80              # Speech feature dimension\n",
        "  time_reduction: 2          # Time dimension downsampling factor\n",
        "  reduction_method: 'conv'   # The source_embedding reduction method ['lstm', 'conv', 'both']\n",
        "\n",
        "  # Architecture parameters\n",
        "  d_model: 344          # Model dimension\n",
        "  num_encoder_layers: 4  # Number of encoder layers\n",
        "  num_decoder_layers: 4  # Number of decoder layers\n",
        "  num_encoder_heads: 8  # Number of encoder attention heads\n",
        "  num_decoder_heads: 8  # Number of decoder attention heads\n",
        "  d_ff_encoder: 1536    # Feed-forward dimension for encoder\n",
        "  d_ff_decoder: 1536     # Feed-forward dimension for decoder\n",
        "  skip_encoder_pe: False # Whether to skip positional encoding for encoder\n",
        "  skip_decoder_pe: False # Whether to skip positional encoding for decoder\n",
        "\n",
        "  # Common parameters\n",
        "  dropout: 0.1          # Dropout rate\n",
        "  layer_drop_rate: 0.0  # Layer dropout rate\n",
        "  weight_tying: False   # Whether to use weight tying\n",
        "\n",
        "###### Common Training Parameters ------------------------------------------------\n",
        "training:\n",
        "  use_wandb                   : True   # Toggle wandb logging\n",
        "  wandb_run_id                : \"o99atvom\" # \"none\" or \"run_id\"\n",
        "  resume                      : True   # Resume an existing run (run_id != 'none')\n",
        "  gradient_accumulation_steps : 1\n",
        "  wandb_project               : \"HW4P2\" # wandb project to log to\n",
        "\n",
        "###### Loss ----------------------------------------------------------------------\n",
        "loss: # Just good ol' CrossEntropy\n",
        "  label_smoothing: 0.1\n",
        "  ctc_weight: 0.2\n",
        "\n",
        "###### Optimizer -----------------------------------------------------------------\n",
        "optimizer:\n",
        "  name: \"adamw\" # Options: sgd, adam, adamw\n",
        "  lr: 0.0004    # Base learning rate\n",
        "\n",
        "  # Common parameters\n",
        "  weight_decay: 0.000001\n",
        "\n",
        "  # Parameter groups\n",
        "  # You can add more param groups as you want and set their learning rates and patterns\n",
        "  param_groups:\n",
        "    - name: self_attn\n",
        "      patterns: []  # Will match all parameters containing \"ffn\" and set their learning rate to 0.0002\n",
        "      lr: 0.0002    # LR for self_attn\n",
        "      layer_decay:\n",
        "        enabled: False\n",
        "        decay_rate: 0.8\n",
        "\n",
        "    - name: ffn\n",
        "      patterns: [] # Will match all parameters containing \"ffn\" and set their learning rate to 0.0002\n",
        "      lr: 0.0002   # LR for ffn\n",
        "      layer_decay:\n",
        "        enabled: False\n",
        "        decay_rate: 0.8\n",
        "\n",
        "  # Layer-wise learning rates\n",
        "  layer_decay:\n",
        "    enabled: False\n",
        "    decay_rate: 0.75\n",
        "\n",
        "  # SGD specific parameters\n",
        "  sgd:\n",
        "    momentum: 0.9\n",
        "    nesterov: True\n",
        "    dampening: 0\n",
        "\n",
        "  # Adam specific parameters\n",
        "  adam:\n",
        "    betas: [0.9, 0.999]\n",
        "    eps: 1.0e-8\n",
        "    amsgrad: False\n",
        "\n",
        "  # AdamW specific parameters\n",
        "  adamw:\n",
        "    betas: [0.9, 0.999]\n",
        "    eps: 1.0e-8\n",
        "    amsgrad: False\n",
        "\n",
        "###### Scheduler -----------------------------------------------------------------\n",
        "scheduler:\n",
        "  name: \"cosine\"  # Options: reduce_lr, cosine, cosine_warm\n",
        "\n",
        "  # ReduceLROnPlateau specific parameters\n",
        "  reduce_lr:\n",
        "    mode: \"min\"  # Options: min, max\n",
        "    factor: 0.1  # Factor to reduce learning rate by\n",
        "    patience: 10  # Number of epochs with no improvement after which LR will be reduced\n",
        "    threshold: 0.0001  # Threshold for measuring the new optimum\n",
        "    threshold_mode: \"rel\"  # Options: rel, abs\n",
        "    cooldown: 0  # Number of epochs to wait before resuming normal operation\n",
        "    min_lr: 0.0000001  # Minimum learning rate\n",
        "    eps: 1e-8  # Minimal decay applied to lr\n",
        "\n",
        "  # CosineAnnealingLR specific parameters\n",
        "  cosine:\n",
        "    T_max: 15  # Maximum number of iterations\n",
        "    eta_min: 0.0000001  # Minimum learning rate\n",
        "    last_epoch: -1\n",
        "\n",
        "  # CosineAnnealingWarmRestarts specific parameters\n",
        "  cosine_warm:\n",
        "    T_0: 10    # Number of iterations for the first restart\n",
        "    T_mult: 10 # Factor increasing T_i after each restart\n",
        "    eta_min: 0.0000001  # Minimum learning rate\n",
        "    last_epoch: -1\n",
        "\n",
        "  # Warmup parameters (can be used with any scheduler)\n",
        "  warmup:\n",
        "    enabled: True\n",
        "    type: \"exponential\"  # Options: linear, exponential\n",
        "    epochs: 5\n",
        "    start_factor: 0.1\n",
        "    end_factor: 1.0\n"
      ],
      "metadata": {
        "id": "3hFZUe7YsfpO"
      },
      "execution_count": null,
      "outputs": []
    },
    {
      "cell_type": "code",
      "source": [
        "with open('config.yaml', 'r') as file:\n",
        "    config = yaml.safe_load(file)"
      ],
      "metadata": {
        "id": "nB3RS_g8sfnd"
      },
      "execution_count": null,
      "outputs": []
    },
    {
      "cell_type": "markdown",
      "source": [
        "## Tokenizer"
      ],
      "metadata": {
        "id": "Lq8X3BcuXWXz"
      }
    },
    {
      "cell_type": "code",
      "source": [
        "Tokenizer = H4Tokenizer(\n",
        "    token_map  = config['tokenization']['token_map'],\n",
        "    token_type = config['tokenization']['token_type']\n",
        ")"
      ],
      "metadata": {
        "colab": {
          "base_uri": "https://localhost:8080/"
        },
        "id": "gstAD2BGXWXz",
        "outputId": "d13f53a1-629b-4665-acdd-4e65ec271f0f",
        "trusted": true,
        "execution": {
          "iopub.status.busy": "2025-07-30T03:31:15.240372Z",
          "iopub.execute_input": "2025-07-30T03:31:15.240947Z",
          "iopub.status.idle": "2025-07-30T03:31:15.279354Z",
          "shell.execute_reply.started": "2025-07-30T03:31:15.240923Z",
          "shell.execute_reply": "2025-07-30T03:31:15.278608Z"
        }
      },
      "outputs": [
        {
          "name": "stdout",
          "text": "================================================================================\n                          Tokenizer Configuration (5k)                          \n--------------------------------------------------------------------------------\nVocabulary size:     5000\n\nSpecial Tokens:\nPAD:              0\nUNK:              1\nMASK:             2\nSOS:              3\nEOS:              4\nBLANK:            5\n\nValidation Example:\n--------------------------------------------------------------------------------\nInput text:  [SOS]HI DEEP LEARNERS[EOS]\nTokens:      ['[SOS]', 'H', 'I', 'ĠDEEP', 'ĠLEARN', 'ERS', '[EOS]']\nToken IDs:   [3, 14, 15, 1169, 2545, 214, 4]\nDecoded:     [SOS]HI DEEP LEARNERS[EOS]\n================================================================================\n",
          "output_type": "stream"
        }
      ],
      "execution_count": null
    },
    {
      "cell_type": "markdown",
      "source": [
        "## Datasets"
      ],
      "metadata": {
        "id": "5hCLVwnaXWXz"
      }
    },
    {
      "cell_type": "code",
      "source": [
        "train_dataset = ASRDataset(\n",
        "    partition=config['data']['train_partition'],\n",
        "    config=config['data'],\n",
        "    tokenizer=Tokenizer,\n",
        "    isTrainPartition=True,\n",
        "    global_stats=None  # Will compute stats from training data\n",
        ")\n",
        "\n",
        "# Get the computed global stats from training set\n",
        "global_stats = None\n",
        "if config['data']['norm'] == 'global_mvn':\n",
        "    global_stats = (train_dataset.global_mean, train_dataset.global_std)\n",
        "    print(f\"Global stats computed from training set.\")\n",
        "\n",
        "val_dataset = ASRDataset(\n",
        "    partition=config['data']['val_partition'],\n",
        "    config=config['data'],\n",
        "    tokenizer=Tokenizer,\n",
        "    isTrainPartition=False,\n",
        "    global_stats=global_stats\n",
        ")\n",
        "\n",
        "test_dataset = ASRDataset(\n",
        "    partition=config['data']['test_partition'],\n",
        "    config=config['data'],\n",
        "    tokenizer=Tokenizer,\n",
        "    isTrainPartition=False,\n",
        "    global_stats=global_stats\n",
        ")\n",
        "\n",
        "gc.collect()"
      ],
      "metadata": {
        "colab": {
          "base_uri": "https://localhost:8080/",
          "height": 367
        },
        "id": "DwmZydebXWXz",
        "outputId": "f0b0559d-de41-4a2c-8800-2ca106068cf6",
        "trusted": true,
        "execution": {
          "iopub.status.busy": "2025-07-30T03:31:19.715886Z",
          "iopub.execute_input": "2025-07-30T03:31:19.716439Z",
          "iopub.status.idle": "2025-07-30T03:44:04.298596Z",
          "shell.execute_reply.started": "2025-07-30T03:31:19.716413Z",
          "shell.execute_reply": "2025-07-30T03:44:04.297977Z"
        }
      },
      "outputs": [
        {
          "name": "stdout",
          "text": "Loading data for train-clean-100 partition...\n",
          "output_type": "stream"
        },
        {
          "name": "stderr",
          "text": "100%|██████████| 28539/28539 [11:22<00:00, 41.82it/s]\n",
          "output_type": "stream"
        },
        {
          "name": "stdout",
          "text": "Global stats computed from training set.\nLoading data for dev-clean partition...\n",
          "output_type": "stream"
        },
        {
          "name": "stderr",
          "text": "100%|██████████| 2703/2703 [00:51<00:00, 52.70it/s]\n",
          "output_type": "stream"
        },
        {
          "name": "stdout",
          "text": "Loading data for test-clean partition...\n",
          "output_type": "stream"
        },
        {
          "name": "stderr",
          "text": "100%|██████████| 2620/2620 [00:29<00:00, 90.08it/s] \n",
          "output_type": "stream"
        },
        {
          "execution_count": 15,
          "output_type": "execute_result",
          "data": {
            "text/plain": "1063"
          },
          "metadata": {}
        }
      ],
      "execution_count": null
    },
    {
      "cell_type": "markdown",
      "source": [
        "## Dataloaders"
      ],
      "metadata": {
        "id": "eAFMrdMLXWXz"
      }
    },
    {
      "cell_type": "code",
      "source": [
        "train_loader    = DataLoader(\n",
        "    dataset     = train_dataset,\n",
        "    batch_size  = config['data']['batch_size'],\n",
        "    shuffle     = True,\n",
        "    num_workers = config['data']['NUM_WORKERS'] if device == 'cuda' else 0,\n",
        "    pin_memory  = True,\n",
        "    collate_fn  = train_dataset.collate_fn\n",
        ")\n",
        "\n",
        "val_loader      = DataLoader(\n",
        "    dataset     = val_dataset,\n",
        "    batch_size  = config['data']['batch_size'],\n",
        "    shuffle     = False,\n",
        "    num_workers = config['data']['NUM_WORKERS'] if device == 'cuda' else 0,\n",
        "    pin_memory  = True,\n",
        "    collate_fn  = val_dataset.collate_fn\n",
        ")\n",
        "\n",
        "test_loader     = DataLoader(\n",
        "    dataset     = test_dataset,\n",
        "    batch_size  = config['data']['batch_size'],\n",
        "    shuffle     = False,\n",
        "    num_workers = config['data']['NUM_WORKERS'] if device == 'cuda' else 0,\n",
        "    pin_memory  = True,\n",
        "    collate_fn  = test_dataset.collate_fn\n",
        ")\n",
        "\n",
        "gc.collect()"
      ],
      "metadata": {
        "id": "SGRynmFPXWXz",
        "trusted": true,
        "execution": {
          "iopub.status.busy": "2025-07-30T03:59:36.856553Z",
          "iopub.execute_input": "2025-07-30T03:59:36.856931Z",
          "iopub.status.idle": "2025-07-30T03:59:37.122978Z",
          "shell.execute_reply.started": "2025-07-30T03:59:36.856910Z",
          "shell.execute_reply": "2025-07-30T03:59:37.122357Z"
        },
        "outputId": "acda1f8d-3d46-4728-e691-0a4b77715ee8"
      },
      "outputs": [
        {
          "execution_count": 17,
          "output_type": "execute_result",
          "data": {
            "text/plain": "0"
          },
          "metadata": {}
        }
      ],
      "execution_count": null
    },
    {
      "cell_type": "markdown",
      "source": [
        "### Dataloader Verification"
      ],
      "metadata": {
        "id": "6YILqrSuXWX0"
      }
    },
    {
      "cell_type": "code",
      "source": [
        "verify_dataloader(train_loader)"
      ],
      "metadata": {
        "id": "awodg0EWXWX0",
        "trusted": true,
        "execution": {
          "iopub.status.busy": "2025-07-30T03:59:38.255202Z",
          "iopub.execute_input": "2025-07-30T03:59:38.255436Z",
          "iopub.status.idle": "2025-07-30T03:59:39.417912Z",
          "shell.execute_reply.started": "2025-07-30T03:59:38.255421Z",
          "shell.execute_reply": "2025-07-30T03:59:39.416997Z"
        },
        "outputId": "183a919b-0ac8-4f7a-de03-e99e75368703"
      },
      "outputs": [
        {
          "name": "stdout",
          "text": "==================================================\n             Dataloader Verification              \n==================================================\nDataloader Partition     : train-clean-100\n--------------------------------------------------\nNumber of Batches        : 3568\nBatch Size               : 8\n--------------------------------------------------\nChecking shapes of the data...                    \n\nFeature Shape            : [8, 2034, 80]\nShifted Transcript Shape : [8, 68]\nGolden Transcript Shape  : [8, 68]\nFeature Lengths Shape    : [8]\nTranscript Lengths Shape : [8]\n--------------------------------------------------\nMax Feature Length       : 3066\nMax Transcript Length    : 100\nAvg. Chars per Token     : 4.24\n==================================================\n",
          "output_type": "stream"
        }
      ],
      "execution_count": null
    },
    {
      "cell_type": "code",
      "source": [
        "verify_dataloader(val_loader)"
      ],
      "metadata": {
        "id": "rPNijuHBXWX0",
        "trusted": true,
        "execution": {
          "iopub.status.busy": "2025-07-30T03:59:39.419685Z",
          "iopub.execute_input": "2025-07-30T03:59:39.419938Z",
          "iopub.status.idle": "2025-07-30T03:59:40.052902Z",
          "shell.execute_reply.started": "2025-07-30T03:59:39.419917Z",
          "shell.execute_reply": "2025-07-30T03:59:40.052064Z"
        },
        "outputId": "714ab300-a951-4cac-96f0-da9802d9ee76"
      },
      "outputs": [
        {
          "name": "stdout",
          "text": "==================================================\n             Dataloader Verification              \n==================================================\nDataloader Partition     : dev-clean\n--------------------------------------------------\nNumber of Batches        : 338\nBatch Size               : 8\n--------------------------------------------------\nChecking shapes of the data...                    \n\nFeature Shape            : [8, 3676, 80]\nShifted Transcript Shape : [8, 104]\nGolden Transcript Shape  : [8, 104]\nFeature Lengths Shape    : [8]\nTranscript Lengths Shape : [8]\n--------------------------------------------------\nMax Feature Length       : 4081\nMax Transcript Length    : 138\nAvg. Chars per Token     : 4.17\n==================================================\n",
          "output_type": "stream"
        }
      ],
      "execution_count": null
    },
    {
      "cell_type": "code",
      "source": [
        "verify_dataloader(test_loader)"
      ],
      "metadata": {
        "id": "NYjQOBj2XWX0",
        "trusted": true,
        "execution": {
          "iopub.status.busy": "2025-07-30T03:59:40.053954Z",
          "iopub.execute_input": "2025-07-30T03:59:40.054217Z",
          "iopub.status.idle": "2025-07-30T03:59:40.668416Z",
          "shell.execute_reply.started": "2025-07-30T03:59:40.054192Z",
          "shell.execute_reply": "2025-07-30T03:59:40.667643Z"
        },
        "outputId": "6651c259-03b2-4144-a8c2-ee3f65ae53a8"
      },
      "outputs": [
        {
          "name": "stdout",
          "text": "==================================================\n             Dataloader Verification              \n==================================================\nDataloader Partition     : test-clean\n--------------------------------------------------\nNumber of Batches        : 328\nBatch Size               : 8\n--------------------------------------------------\nChecking shapes of the data...                    \n\nFeature Shape            : [8, 1320, 80]\nFeature Lengths Shape    : [8]\n--------------------------------------------------\nMax Feature Length       : 4370\nMax Transcript Length    : 0\nAvg. Chars per Token     : 0.00\n==================================================\n",
          "output_type": "stream"
        }
      ],
      "execution_count": null
    },
    {
      "cell_type": "markdown",
      "source": [
        "## Calculate Max Lengths\n"
      ],
      "metadata": {
        "id": "F8_T2fH3XWX0"
      }
    },
    {
      "cell_type": "code",
      "source": [
        "max_feat_len       = max(train_dataset.feat_max_len, val_dataset.feat_max_len, test_dataset.feat_max_len)\n",
        "max_transcript_len = max(train_dataset.text_max_len, val_dataset.text_max_len, test_dataset.text_max_len)\n",
        "max_len            = max(max_feat_len, max_transcript_len)\n",
        "\n",
        "print(\"=\"*50)\n",
        "print(f\"{'Max Feature Length':<30} : {max_feat_len}\")\n",
        "print(f\"{'Max Transcript Length':<30} : {max_transcript_len}\")\n",
        "print(f\"{'Overall Max Length':<30} : {max_len}\")\n",
        "print(\"=\"*50)"
      ],
      "metadata": {
        "id": "guY_wgFjXWX0",
        "trusted": true,
        "execution": {
          "iopub.status.busy": "2025-07-30T03:59:42.690506Z",
          "iopub.execute_input": "2025-07-30T03:59:42.690832Z",
          "iopub.status.idle": "2025-07-30T03:59:42.696839Z",
          "shell.execute_reply.started": "2025-07-30T03:59:42.690806Z",
          "shell.execute_reply": "2025-07-30T03:59:42.696219Z"
        },
        "outputId": "5900a388-0eb6-4e0f-9d09-a084da08652d"
      },
      "outputs": [
        {
          "name": "stdout",
          "text": "==================================================\nMax Feature Length             : 4370\nMax Transcript Length          : 138\nOverall Max Length             : 4370\n==================================================\n",
          "output_type": "stream"
        }
      ],
      "execution_count": null
    },
    {
      "cell_type": "markdown",
      "source": [
        "## Wandb"
      ],
      "metadata": {
        "id": "zmryM_AHXWX0"
      }
    },
    {
      "cell_type": "code",
      "source": [
        "wandb.login(key=\"39e9c89279f6d046c7bae725e099c70ddf0fd98f\")"
      ],
      "metadata": {
        "id": "5fEQ0Ns_XWX0",
        "trusted": true,
        "execution": {
          "iopub.status.busy": "2025-07-30T03:59:43.865279Z",
          "iopub.execute_input": "2025-07-30T03:59:43.865556Z",
          "iopub.status.idle": "2025-07-30T03:59:50.358518Z",
          "shell.execute_reply.started": "2025-07-30T03:59:43.865536Z",
          "shell.execute_reply": "2025-07-30T03:59:50.357943Z"
        },
        "outputId": "a9493509-f465-4115-cbea-fbb235c7d495"
      },
      "outputs": [
        {
          "name": "stderr",
          "text": "\u001b[34m\u001b[1mwandb\u001b[0m: \u001b[33mWARNING\u001b[0m If you're specifying your api key in code, ensure this code is not shared publicly.\n\u001b[34m\u001b[1mwandb\u001b[0m: \u001b[33mWARNING\u001b[0m Consider setting the WANDB_API_KEY environment variable, or running `wandb login` from the command line.\n\u001b[34m\u001b[1mwandb\u001b[0m: No netrc file found, creating one.\n\u001b[34m\u001b[1mwandb\u001b[0m: Appending key for api.wandb.ai to your netrc file: /root/.netrc\n\u001b[34m\u001b[1mwandb\u001b[0m: Currently logged in as: \u001b[33mrishitsaxena55\u001b[0m (\u001b[33mrishitsaxena55-indian-institute-of-technology\u001b[0m) to \u001b[32mhttps://api.wandb.ai\u001b[0m. Use \u001b[1m`wandb login --relogin`\u001b[0m to force relogin\n",
          "output_type": "stream"
        },
        {
          "execution_count": 22,
          "output_type": "execute_result",
          "data": {
            "text/plain": "True"
          },
          "metadata": {}
        }
      ],
      "execution_count": null
    },
    {
      "cell_type": "markdown",
      "source": [
        "## Training\n",
        "Every time you run the trainer, it will create a new directory in the `expts` folder with the following structure:\n",
        "```\n",
        "expts/\n",
        "    └── {run_name}/\n",
        "        ├── config.yaml\n",
        "        ├── model_arch.txt\n",
        "        ├── checkpoints/\n",
        "        │   ├── checkpoint-best-metric-model.pth\n",
        "        │   └── checkpoint-last-epoch-model.pth\n",
        "        ├── attn/\n",
        "        │   └── {attention visualizations}\n",
        "        └── text/\n",
        "            └── {generated text outputs}\n",
        "```\n"
      ],
      "metadata": {
        "id": "ZXcjkHQ_XWX0"
      }
    },
    {
      "cell_type": "markdown",
      "source": [
        "### Training Strategy : Cold-Start Trainer"
      ],
      "metadata": {
        "id": "DS7fwKk5XWX0"
      }
    },
    {
      "cell_type": "markdown",
      "source": [
        "#### Model Load (Default)"
      ],
      "metadata": {
        "id": "B-y9NyN4XWX0"
      }
    },
    {
      "cell_type": "code",
      "source": [
        "model_config = config['model'].copy()\n",
        "model_config.update({\n",
        "    'max_len': max_len,\n",
        "    'num_classes': Tokenizer.vocab_size\n",
        "})\n",
        "\n",
        "model = EncoderDecoderTransformer(**model_config)\n",
        "\n",
        "# Get some inputs from the train dataloader\n",
        "for batch in train_loader:\n",
        "    padded_feats, padded_shifted, padded_golden, feat_lengths, transcript_lengths = batch\n",
        "    break\n",
        "\n",
        "\n",
        "model_stats = summary(model, input_data=[padded_feats, padded_shifted, feat_lengths, transcript_lengths])\n",
        "print(model_stats)"
      ],
      "metadata": {
        "id": "CTSjyngVXWX0",
        "trusted": true,
        "execution": {
          "iopub.status.busy": "2025-07-30T03:59:50.359561Z",
          "iopub.execute_input": "2025-07-30T03:59:50.359939Z",
          "iopub.status.idle": "2025-07-30T04:00:07.458023Z",
          "shell.execute_reply.started": "2025-07-30T03:59:50.359922Z",
          "shell.execute_reply": "2025-07-30T04:00:07.457179Z"
        },
        "outputId": "f51c9b39-bb97-43c3-c783-eacb76a40bce"
      },
      "outputs": [
        {
          "name": "stdout",
          "text": "===============================================================================================\nLayer (type:depth-idx)                        Output Shape              Param #\n===============================================================================================\nEncoderDecoderTransformer                     [8, 72, 5000]             --\n├─SpeechEmbedding: 1-1                        [8, 1079, 344]            --\n│    └─Conv2DSubsampling: 2-1                 [8, 1079, 344]            --\n│    │    └─Sequential: 3-1                   [8, 344, 1079, 76]        1,068,808\n│    │    └─Linear: 3-2                       [8, 1079, 344]            8,993,880\n│    │    └─Dropout: 3-3                      [8, 1079, 344]            --\n├─PositionalEncoding: 1-2                     [8, 1079, 344]            --\n├─Dropout: 1-3                                [8, 1079, 344]            --\n├─ModuleList: 1-4                             --                        --\n│    └─SelfAttentionEncoderLayer: 2-2         [8, 1079, 344]            --\n│    │    └─SelfAttentionLayer: 3-4           [8, 1079, 344]            475,408\n│    │    └─FeedForwardLayer: 3-5             [8, 1079, 344]            1,059,336\n│    └─SelfAttentionEncoderLayer: 2-3         [8, 1079, 344]            --\n│    │    └─SelfAttentionLayer: 3-6           [8, 1079, 344]            475,408\n│    │    └─FeedForwardLayer: 3-7             [8, 1079, 344]            1,059,336\n│    └─SelfAttentionEncoderLayer: 2-4         [8, 1079, 344]            --\n│    │    └─SelfAttentionLayer: 3-8           [8, 1079, 344]            475,408\n│    │    └─FeedForwardLayer: 3-9             [8, 1079, 344]            1,059,336\n│    └─SelfAttentionEncoderLayer: 2-5         [8, 1079, 344]            --\n│    │    └─SelfAttentionLayer: 3-10          [8, 1079, 344]            475,408\n│    │    └─FeedForwardLayer: 3-11            [8, 1079, 344]            1,059,336\n├─LayerNorm: 1-5                              [8, 1079, 344]            688\n├─Sequential: 1-6                             [8, 1079, 5000]           --\n│    └─Linear: 2-6                            [8, 1079, 5000]           1,725,000\n│    └─LogSoftmax: 2-7                        [8, 1079, 5000]           --\n├─Embedding: 1-7                              [8, 72, 344]              1,720,000\n├─PositionalEncoding: 1-8                     [8, 72, 344]              --\n├─Dropout: 1-9                                [8, 72, 344]              --\n├─ModuleList: 1-10                            --                        --\n│    └─CrossAttentionDecoderLayer: 2-8        [8, 72, 344]              --\n│    │    └─SelfAttentionLayer: 3-12          [8, 72, 344]              475,408\n│    │    └─CrossAttentionLayer: 3-13         [8, 72, 344]              475,408\n│    │    └─FeedForwardLayer: 3-14            [8, 72, 344]              1,059,336\n│    └─CrossAttentionDecoderLayer: 2-9        [8, 72, 344]              --\n│    │    └─SelfAttentionLayer: 3-15          [8, 72, 344]              475,408\n│    │    └─CrossAttentionLayer: 3-16         [8, 72, 344]              475,408\n│    │    └─FeedForwardLayer: 3-17            [8, 72, 344]              1,059,336\n│    └─CrossAttentionDecoderLayer: 2-10       [8, 72, 344]              --\n│    │    └─SelfAttentionLayer: 3-18          [8, 72, 344]              475,408\n│    │    └─CrossAttentionLayer: 3-19         [8, 72, 344]              475,408\n│    │    └─FeedForwardLayer: 3-20            [8, 72, 344]              1,059,336\n│    └─CrossAttentionDecoderLayer: 2-11       [8, 72, 344]              --\n│    │    └─SelfAttentionLayer: 3-21          [8, 72, 344]              475,408\n│    │    └─CrossAttentionLayer: 3-22         [8, 72, 344]              475,408\n│    │    └─FeedForwardLayer: 3-23            [8, 72, 344]              1,059,336\n├─LayerNorm: 1-11                             [8, 72, 344]              688\n├─Linear: 1-12                                [8, 72, 5000]             1,725,000\n===============================================================================================\nTotal params: 29,413,648\nTrainable params: 29,413,648\nNon-trainable params: 0\nTotal mult-adds (Units.GIGABYTES): 701.42\n===============================================================================================\nInput size (MB): 5.54\nForward/backward pass size (MB): 4843.76\nParams size (MB): 94.87\nEstimated Total Size (MB): 4944.17\n===============================================================================================\n",
          "output_type": "stream"
        }
      ],
      "execution_count": null
    },
    {
      "cell_type": "markdown",
      "source": [
        "#### Initialize Trainer\n",
        "\n",
        "If you need to reload the model from a checkpoint, you can do so by calling the `load_checkpoint` method.\n",
        "\n",
        "```python\n",
        "checkpoint_path = \"path/to/checkpoint.pth\"\n",
        "trainer.load_checkpoint(checkpoint_path)\n",
        "```\n"
      ],
      "metadata": {
        "id": "FN6wc57eXWX1"
      }
    },
    {
      "cell_type": "code",
      "source": [
        "trainer = ASRTrainer(\n",
        "    model=model,\n",
        "    tokenizer=Tokenizer,\n",
        "    config=config,\n",
        "    run_name=\"run-1\",\n",
        "    config_file=\"config.yaml\",\n",
        "    device=device\n",
        ")"
      ],
      "metadata": {
        "id": "1eg-NsHzXWX1",
        "trusted": true,
        "execution": {
          "iopub.status.busy": "2025-07-30T07:39:23.144670Z",
          "iopub.execute_input": "2025-07-30T07:39:23.145005Z",
          "iopub.status.idle": "2025-07-30T07:39:33.905168Z",
          "shell.execute_reply.started": "2025-07-30T07:39:23.144983Z",
          "shell.execute_reply": "2025-07-30T07:39:33.904404Z"
        },
        "outputId": "ab93e5ca-b538-4598-bd53-faf537ad6787"
      },
      "outputs": [
        {
          "name": "stdout",
          "text": "Using device: cuda\n",
          "output_type": "stream"
        },
        {
          "output_type": "display_data",
          "data": {
            "text/plain": "<IPython.core.display.HTML object>",
            "text/html": "Finishing previous runs because reinit is set to 'default'."
          },
          "metadata": {}
        },
        {
          "output_type": "display_data",
          "data": {
            "text/plain": "<IPython.core.display.HTML object>",
            "text/html": ""
          },
          "metadata": {}
        },
        {
          "output_type": "display_data",
          "data": {
            "text/plain": "<IPython.core.display.HTML object>",
            "text/html": "<br>    <style><br>        .wandb-row {<br>            display: flex;<br>            flex-direction: row;<br>            flex-wrap: wrap;<br>            justify-content: flex-start;<br>            width: 100%;<br>        }<br>        .wandb-col {<br>            display: flex;<br>            flex-direction: column;<br>            flex-basis: 100%;<br>            flex: 1;<br>            padding: 10px;<br>        }<br>    </style><br><div class=\"wandb-row\"><div class=\"wandb-col\"><h3>Run history:</h3><br/><table class=\"wandb\"><tr><td>learning_rate</td><td>█▄▂▁</td></tr><tr><td>train/ce_loss</td><td>█▄▂▁</td></tr><tr><td>train/ctc_loss</td><td>█▄▂▁</td></tr><tr><td>train/joint_loss</td><td>█▄▂▁</td></tr><tr><td>train/perplexity_char</td><td>█▄▂▁</td></tr><tr><td>train/perplexity_token</td><td>█▄▂▁</td></tr><tr><td>val/cer</td><td>▅▁██</td></tr><tr><td>val/wer</td><td>▆▁██</td></tr><tr><td>val/word_dist</td><td>▅▁██</td></tr></table><br/></div><div class=\"wandb-col\"><h3>Run summary:</h3><br/><table class=\"wandb\"><tr><td>learning_rate</td><td>0.0</td></tr><tr><td>train/ce_loss</td><td>1.44911</td></tr><tr><td>train/ctc_loss</td><td>1.11424</td></tr><tr><td>train/joint_loss</td><td>1.67196</td></tr><tr><td>train/perplexity_char</td><td>1.40772</td></tr><tr><td>train/perplexity_token</td><td>4.25931</td></tr><tr><td>val/cer</td><td>22.83747</td></tr><tr><td>val/wer</td><td>35.69322</td></tr><tr><td>val/word_dist</td><td>23.825</td></tr></table><br/></div></div>"
          },
          "metadata": {}
        },
        {
          "output_type": "display_data",
          "data": {
            "text/plain": "<IPython.core.display.HTML object>",
            "text/html": " View run <strong style=\"color:#cdcd00\">run-1</strong> at: <a href='https://wandb.ai/rishitsaxena55-indian-institute-of-technology/HW4P2/runs/o99atvom' target=\"_blank\">https://wandb.ai/rishitsaxena55-indian-institute-of-technology/HW4P2/runs/o99atvom</a><br> View project at: <a href='https://wandb.ai/rishitsaxena55-indian-institute-of-technology/HW4P2' target=\"_blank\">https://wandb.ai/rishitsaxena55-indian-institute-of-technology/HW4P2</a><br>Synced 5 W&B file(s), 8 media file(s), 0 artifact file(s) and 6 other file(s)"
          },
          "metadata": {}
        },
        {
          "output_type": "display_data",
          "data": {
            "text/plain": "<IPython.core.display.HTML object>",
            "text/html": "Find logs at: <code>./wandb/run-20250730_040550-o99atvom/logs</code>"
          },
          "metadata": {}
        },
        {
          "name": "stderr",
          "text": "                                                                            \r",
          "output_type": "stream"
        },
        {
          "output_type": "display_data",
          "data": {
            "text/plain": "<IPython.core.display.HTML object>",
            "text/html": "Tracking run with wandb version 0.20.1"
          },
          "metadata": {}
        },
        {
          "output_type": "display_data",
          "data": {
            "text/plain": "<IPython.core.display.HTML object>",
            "text/html": "Run data is saved locally in <code>/kaggle/working/IDL-HW4/IDL-HW4/wandb/run-20250730_073923-o99atvom</code>"
          },
          "metadata": {}
        },
        {
          "output_type": "display_data",
          "data": {
            "text/plain": "<IPython.core.display.HTML object>",
            "text/html": "Resuming run <strong><a href='https://wandb.ai/rishitsaxena55-indian-institute-of-technology/HW4P2/runs/o99atvom' target=\"_blank\">run-1</a></strong> to <a href='https://wandb.ai/rishitsaxena55-indian-institute-of-technology/HW4P2' target=\"_blank\">Weights & Biases</a> (<a href='https://wandb.me/developer-guide' target=\"_blank\">docs</a>)<br>"
          },
          "metadata": {}
        },
        {
          "output_type": "display_data",
          "data": {
            "text/plain": "<IPython.core.display.HTML object>",
            "text/html": " View project at <a href='https://wandb.ai/rishitsaxena55-indian-institute-of-technology/HW4P2' target=\"_blank\">https://wandb.ai/rishitsaxena55-indian-institute-of-technology/HW4P2</a>"
          },
          "metadata": {}
        },
        {
          "output_type": "display_data",
          "data": {
            "text/plain": "<IPython.core.display.HTML object>",
            "text/html": " View run at <a href='https://wandb.ai/rishitsaxena55-indian-institute-of-technology/HW4P2/runs/o99atvom' target=\"_blank\">https://wandb.ai/rishitsaxena55-indian-institute-of-technology/HW4P2/runs/o99atvom</a>"
          },
          "metadata": {}
        }
      ],
      "execution_count": null
    },
    {
      "cell_type": "markdown",
      "source": [
        "### Setup Optimizer and Scheduler\n",
        "\n",
        "You can set your own optimizer and scheduler by setting the class members in the `LMTrainer` class.\n",
        "Eg:\n",
        "```python\n",
        "trainer.optimizer = optim.AdamW(model.parameters(), lr=config['optimizer']['lr'], weight_decay=config['optimizer']['weight_decay'])\n",
        "trainer.scheduler = optim.lr_scheduler.CosineAnnealingLR(trainer.optimizer, T_max=config['training']['epochs'])\n",
        "```\n",
        "\n"
      ],
      "metadata": {
        "id": "qiQSYD7jXWX1"
      }
    },
    {
      "cell_type": "markdown",
      "source": [
        "#### Setting up the optimizer"
      ],
      "metadata": {
        "id": "M_IQUFhmXWX1"
      }
    },
    {
      "cell_type": "code",
      "source": [
        "trainer.optimizer = create_optimizer(\n",
        "    model=model,\n",
        "    opt_config=config['optimizer']\n",
        ")"
      ],
      "metadata": {
        "id": "F1mMBVjrXWX1",
        "trusted": true,
        "execution": {
          "iopub.status.busy": "2025-07-30T07:39:33.906400Z",
          "iopub.execute_input": "2025-07-30T07:39:33.906675Z",
          "iopub.status.idle": "2025-07-30T07:39:33.923894Z",
          "shell.execute_reply.started": "2025-07-30T07:39:33.906653Z",
          "shell.execute_reply": "2025-07-30T07:39:33.923300Z"
        },
        "outputId": "22d46de3-bee0-4672-c9f0-36667817693d"
      },
      "outputs": [
        {
          "name": "stdout",
          "text": "\n🔧 Configuring Optimizer:\n├── Type: ADAMW\n├── Base LR: 0.0004\n├── Weight Decay: 1e-06\n├── Parameter Groups:\n│   ├── Group: self_attn\n│   │   ├── LR: 0.0002\n│   │   └── Patterns: []\n│   ├── Group: ffn\n│   │   ├── LR: 0.0002\n│   │   └── Patterns: []\n│   └── Default Group (unmatched parameters)\n└── AdamW Specific:\n    ├── Betas: [0.9, 0.999]\n    ├── Epsilon: 1e-08\n    └── AMSGrad: False\n",
          "output_type": "stream"
        }
      ],
      "execution_count": null
    },
    {
      "cell_type": "markdown",
      "source": [
        "#### Creating a test scheduler and plotting the learning rate schedule"
      ],
      "metadata": {
        "id": "_h4o2qWEXWX1"
      }
    },
    {
      "cell_type": "code",
      "source": [
        "test_scheduler = create_scheduler(\n",
        "    optimizer=trainer.optimizer,\n",
        "    scheduler_config=config['scheduler'],\n",
        "    train_loader=train_loader,\n",
        "    gradient_accumulation_steps=config['training']['gradient_accumulation_steps']\n",
        ")\n",
        "\n",
        "plot_lr_schedule(\n",
        "    scheduler=test_scheduler,\n",
        "    num_epochs=20,\n",
        "    train_loader=train_loader,\n",
        "    gradient_accumulation_steps=config['training']['gradient_accumulation_steps']\n",
        ")"
      ],
      "metadata": {
        "id": "ilPlvS6EXWX1",
        "trusted": true,
        "execution": {
          "iopub.status.busy": "2025-07-30T07:39:33.924562Z",
          "iopub.execute_input": "2025-07-30T07:39:33.924801Z",
          "iopub.status.idle": "2025-07-30T07:40:43.235174Z",
          "shell.execute_reply.started": "2025-07-30T07:39:33.924779Z",
          "shell.execute_reply": "2025-07-30T07:40:43.234409Z"
        },
        "outputId": "dfc7d4b0-89c5-4da7-90f7-ba52de8fb54b"
      },
      "outputs": [
        {
          "name": "stdout",
          "text": "\n📈 Configuring Learning Rate Scheduler:\n├── Type: COSINE\n├── Cosine Annealing Settings:\n│   ├── T_max: 15 epochs (53520 steps)\n│   └── Min LR: 1e-07\n├── Warmup Settings:\n│   ├── Duration: 5 epochs (17840 steps)\n│   ├── Start Factor: 0.1\n│   └── End Factor: 1.0\nWarning: Only showing 5 out of 135 parameter groups for clarity\n",
          "output_type": "stream"
        },
        {
          "output_type": "display_data",
          "data": {
            "text/plain": "<Figure size 1200x400 with 2 Axes>",
            "image/png": "[encoded data removed]"
          },
          "metadata": {}
        }
      ],
      "execution_count": null
    },
    {
      "cell_type": "markdown",
      "source": [
        "#### Setting up the scheduler"
      ],
      "metadata": {
        "id": "m1qQK403XWX1"
      }
    },
    {
      "cell_type": "code",
      "source": [
        "trainer.scheduler = create_scheduler(\n",
        "    optimizer=trainer.optimizer,\n",
        "    scheduler_config=config['scheduler'],\n",
        "    train_loader=train_loader,\n",
        "    gradient_accumulation_steps=config['training']['gradient_accumulation_steps']\n",
        ")"
      ],
      "metadata": {
        "id": "H3-MTweSXWX2",
        "trusted": true,
        "execution": {
          "iopub.status.busy": "2025-07-30T07:40:43.236299Z",
          "iopub.execute_input": "2025-07-30T07:40:43.236536Z",
          "iopub.status.idle": "2025-07-30T07:40:43.244842Z",
          "shell.execute_reply.started": "2025-07-30T07:40:43.236510Z",
          "shell.execute_reply": "2025-07-30T07:40:43.244239Z"
        },
        "outputId": "ac9f7538-7d0e-4e9b-95fc-188841c9b69d"
      },
      "outputs": [
        {
          "name": "stdout",
          "text": "\n📈 Configuring Learning Rate Scheduler:\n├── Type: COSINE\n├── Cosine Annealing Settings:\n│   ├── T_max: 15 epochs (53520 steps)\n│   └── Min LR: 1e-07\n├── Warmup Settings:\n│   ├── Duration: 5 epochs (17840 steps)\n│   ├── Start Factor: 0.1\n│   └── End Factor: 1.0\n",
          "output_type": "stream"
        }
      ],
      "execution_count": null
    },
    {
      "cell_type": "markdown",
      "source": [
        "#### Train\n",
        "- Set your epochs"
      ],
      "metadata": {
        "id": "9y3ASKqWXWX2"
      }
    },
    {
      "cell_type": "code",
      "source": [
        "checkpoint_path = \"/kaggle/input/best-model/pytorch/best-till-19-epochs/1/checkpoint-best-metric-model.pth\"\n",
        "trainer.load_checkpoint(checkpoint_path)"
      ],
      "metadata": {
        "trusted": true,
        "execution": {
          "iopub.status.busy": "2025-07-30T07:42:04.597225Z",
          "iopub.execute_input": "2025-07-30T07:42:04.597845Z",
          "iopub.status.idle": "2025-07-30T07:42:08.593409Z",
          "shell.execute_reply.started": "2025-07-30T07:42:04.597823Z",
          "shell.execute_reply": "2025-07-30T07:42:08.592686Z"
        },
        "id": "tsn3p3dPrp0T",
        "outputId": "f065dcaa-4577-4d93-941d-13e4e53ee335"
      },
      "outputs": [
        {
          "name": "stdout",
          "text": "Checkpoint loaded from epoch 16\nSuccessfully loaded: model, optimizer, scheduler, scaler, training_state\n",
          "output_type": "stream"
        }
      ],
      "execution_count": null
    },
    {
      "cell_type": "code",
      "source": [
        "trainer.train(train_loader, val_loader, epochs=4)"
      ],
      "metadata": {
        "id": "bKCzg3U8XWX2",
        "trusted": true,
        "execution": {
          "iopub.status.busy": "2025-07-30T04:08:19.617159Z",
          "iopub.execute_input": "2025-07-30T04:08:19.617756Z",
          "iopub.status.idle": "2025-07-30T07:05:43.984341Z",
          "shell.execute_reply.started": "2025-07-30T04:08:19.617730Z",
          "shell.execute_reply": "2025-07-30T07:05:43.983297Z"
        },
        "outputId": "3757396e-c18f-495b-bc83-2f3d9bb0f8c6"
      },
      "outputs": [
        {
          "name": "stderr",
          "text": "                                                                                                                                                        \r",
          "output_type": "stream"
        },
        {
          "name": "stdout",
          "text": "\n📊 Metrics (Epoch 15):\n├── TRAIN:\n│   ├── ce_loss: 1.4842\n│   ├── ctc_loss: 1.1896\n│   ├── joint_loss: 1.7222\n│   ├── perplexity_char: 1.4194\n│   └── perplexity_token: 4.4116\n└── VAL:\n    ├── cer: 20.8540\n    ├── wer: 34.3658\n    └── word_dist: 21.8000\n└── TRAINING:\n    └── learning_rate: 0.000038\n",
          "output_type": "stream"
        },
        {
          "name": "stderr",
          "text": "\u001b[34m\u001b[1mwandb\u001b[0m: \u001b[33mWARNING\u001b[0m Saving files without folders. If you want to preserve subdirectories pass base_path to wandb.save, i.e. wandb.save(\"/mnt/folder/file.h5\", base_path=\"/mnt\")\n                                                                                                                                                        \r",
          "output_type": "stream"
        },
        {
          "name": "stdout",
          "text": "\n📊 Metrics (Epoch 16):\n├── TRAIN:\n│   ├── ce_loss: 1.4658\n│   ├── ctc_loss: 1.1502\n│   ├── joint_loss: 1.6958\n│   ├── perplexity_char: 1.4133\n│   └── perplexity_token: 4.3310\n└── VAL:\n    ├── cer: 17.7686\n    ├── wer: 31.4159\n    └── word_dist: 18.7000\n└── TRAINING:\n    └── learning_rate: 0.000017\n",
          "output_type": "stream"
        },
        {
          "name": "stderr",
          "text": "                                                                                                                                                        \r",
          "output_type": "stream"
        },
        {
          "name": "stdout",
          "text": "\n📊 Metrics (Epoch 17):\n├── TRAIN:\n│   ├── ce_loss: 1.4552\n│   ├── ctc_loss: 1.1266\n│   ├── joint_loss: 1.6805\n│   ├── perplexity_char: 1.4097\n│   └── perplexity_token: 4.2852\n└── VAL:\n    ├── cer: 22.8650\n    ├── wer: 35.3982\n    └── word_dist: 23.7750\n└── TRAINING:\n    └── learning_rate: 0.000004\n",
          "output_type": "stream"
        },
        {
          "name": "stderr",
          "text": "                                                                                                                                                        \r",
          "output_type": "stream"
        },
        {
          "name": "stdout",
          "text": "\n📊 Metrics (Epoch 18):\n├── TRAIN:\n│   ├── ce_loss: 1.4491\n│   ├── ctc_loss: 1.1142\n│   ├── joint_loss: 1.6720\n│   ├── perplexity_char: 1.4077\n│   └── perplexity_token: 4.2593\n└── VAL:\n    ├── cer: 22.8375\n    ├── wer: 35.6932\n    └── word_dist: 23.8250\n└── TRAINING:\n    └── learning_rate: 0.000000\n",
          "output_type": "stream"
        }
      ],
      "execution_count": null
    }
  ]
}